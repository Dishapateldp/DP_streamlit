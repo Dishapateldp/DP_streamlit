{
 "cells": [
  {
   "cell_type": "code",
   "execution_count": 113,
   "id": "1c5c7517",
   "metadata": {},
   "outputs": [],
   "source": [
    "import numpy as np\n",
    "import pandas as pd\n",
    "import matplotlib.pyplot as plt\n",
    "import warnings\n",
    "warnings.filterwarnings(\"ignore\")\n",
    "import seaborn as sns\n",
    "sns.set(style='whitegrid')\n",
    "from sklearn.linear_model import LinearRegression\n",
    "from sklearn.model_selection import train_test_split\n",
    "from sklearn import metrics\n",
    "import statsmodels.api as sm\n",
    "import plotly.express as px \n",
    "from mlxtend.feature_selection import SequentialFeatureSelector\n",
    "from sklearn.metrics import mean_squared_error\n",
    "from sklearn.feature_selection import RFE\n",
    "from sklearn.metrics import SCORERS\n",
    "from sklearn.model_selection import train_test_split\n",
    "from sklearn.metrics import mean_squared_error\n",
    "from sklearn.ensemble import GradientBoostingRegressor"
   ]
  },
  {
   "cell_type": "code",
   "execution_count": 114,
   "id": "c5078ff0",
   "metadata": {},
   "outputs": [],
   "source": [
    "# uploading the data set\n",
    "\n",
    "df = pd.read_csv(\"Diamond.csv\")"
   ]
  },
  {
   "cell_type": "code",
   "execution_count": 115,
   "id": "6b92420e",
   "metadata": {},
   "outputs": [
    {
     "data": {
      "text/html": [
       "<div>\n",
       "<style scoped>\n",
       "    .dataframe tbody tr th:only-of-type {\n",
       "        vertical-align: middle;\n",
       "    }\n",
       "\n",
       "    .dataframe tbody tr th {\n",
       "        vertical-align: top;\n",
       "    }\n",
       "\n",
       "    .dataframe thead th {\n",
       "        text-align: right;\n",
       "    }\n",
       "</style>\n",
       "<table border=\"1\" class=\"dataframe\">\n",
       "  <thead>\n",
       "    <tr style=\"text-align: right;\">\n",
       "      <th></th>\n",
       "      <th>carat</th>\n",
       "      <th>cut</th>\n",
       "      <th>color</th>\n",
       "      <th>clarity</th>\n",
       "      <th>depth</th>\n",
       "      <th>table</th>\n",
       "      <th>price</th>\n",
       "      <th>x</th>\n",
       "      <th>y</th>\n",
       "      <th>z</th>\n",
       "    </tr>\n",
       "  </thead>\n",
       "  <tbody>\n",
       "    <tr>\n",
       "      <th>0</th>\n",
       "      <td>0.23</td>\n",
       "      <td>4</td>\n",
       "      <td>5</td>\n",
       "      <td>2</td>\n",
       "      <td>61.5</td>\n",
       "      <td>55.0</td>\n",
       "      <td>326</td>\n",
       "      <td>3.95</td>\n",
       "      <td>3.98</td>\n",
       "      <td>2.43</td>\n",
       "    </tr>\n",
       "    <tr>\n",
       "      <th>1</th>\n",
       "      <td>0.21</td>\n",
       "      <td>3</td>\n",
       "      <td>5</td>\n",
       "      <td>3</td>\n",
       "      <td>59.8</td>\n",
       "      <td>61.0</td>\n",
       "      <td>326</td>\n",
       "      <td>3.89</td>\n",
       "      <td>3.84</td>\n",
       "      <td>2.31</td>\n",
       "    </tr>\n",
       "    <tr>\n",
       "      <th>2</th>\n",
       "      <td>0.23</td>\n",
       "      <td>1</td>\n",
       "      <td>5</td>\n",
       "      <td>5</td>\n",
       "      <td>56.9</td>\n",
       "      <td>65.0</td>\n",
       "      <td>327</td>\n",
       "      <td>4.05</td>\n",
       "      <td>4.07</td>\n",
       "      <td>2.31</td>\n",
       "    </tr>\n",
       "    <tr>\n",
       "      <th>3</th>\n",
       "      <td>0.29</td>\n",
       "      <td>3</td>\n",
       "      <td>1</td>\n",
       "      <td>4</td>\n",
       "      <td>62.4</td>\n",
       "      <td>58.0</td>\n",
       "      <td>334</td>\n",
       "      <td>4.20</td>\n",
       "      <td>4.23</td>\n",
       "      <td>2.63</td>\n",
       "    </tr>\n",
       "    <tr>\n",
       "      <th>4</th>\n",
       "      <td>0.31</td>\n",
       "      <td>1</td>\n",
       "      <td>0</td>\n",
       "      <td>2</td>\n",
       "      <td>63.3</td>\n",
       "      <td>58.0</td>\n",
       "      <td>335</td>\n",
       "      <td>4.34</td>\n",
       "      <td>4.35</td>\n",
       "      <td>2.75</td>\n",
       "    </tr>\n",
       "  </tbody>\n",
       "</table>\n",
       "</div>"
      ],
      "text/plain": [
       "   carat  cut  color  clarity  depth  table  price     x     y     z\n",
       "0   0.23    4      5        2   61.5   55.0    326  3.95  3.98  2.43\n",
       "1   0.21    3      5        3   59.8   61.0    326  3.89  3.84  2.31\n",
       "2   0.23    1      5        5   56.9   65.0    327  4.05  4.07  2.31\n",
       "3   0.29    3      1        4   62.4   58.0    334  4.20  4.23  2.63\n",
       "4   0.31    1      0        2   63.3   58.0    335  4.34  4.35  2.75"
      ]
     },
     "execution_count": 115,
     "metadata": {},
     "output_type": "execute_result"
    }
   ],
   "source": [
    "#Replacing the categorical value colour, cut and clarity without using built in function for categorical data\n",
    "df=df.replace({'color' : { 'D' : 6, 'E' : 5, 'F' : 4, 'G' : 3, 'H': 2, 'I':1, 'J':0}})\n",
    "df=df.replace({'cut': {'Ideal':4, 'Premium': 3, 'Very Good':2, 'Good':1, 'Fair':0}})\n",
    "df=df.replace({'clarity': {\"IF\": 8, 'VVS1' :7, 'VVS2': 6, 'VS1': 5, 'VS2': 4, 'SI1':3, 'SI2': 2, 'I1':1, 'I2':0, 'I3':0}})\n",
    "#Visualize the data frame\n",
    "df.head()"
   ]
  },
  {
   "cell_type": "markdown",
   "id": "37203a7f",
   "metadata": {},
   "source": [
    "Since both Carat and volume has high VIF, we'll check for feature significance."
   ]
  },
  {
   "cell_type": "code",
   "execution_count": 116,
   "id": "2e6339e0",
   "metadata": {},
   "outputs": [],
   "source": [
    "#Define the independent and dependent variables\n",
    "y= df['price'] #dependent variable is price\n",
    "x= df.drop(['price'], axis=1)\n",
    "\n",
    "# Split the data into training and testing sets\n",
    "x_train, x_test, y_train, y_test = train_test_split(x, y, test_size=0.2, random_state=42)"
   ]
  },
  {
   "cell_type": "code",
   "execution_count": 117,
   "id": "41710f37",
   "metadata": {},
   "outputs": [],
   "source": [
    "GBS = GradientBoostingRegressor()\n",
    "\n",
    "model_gbs = GBS.fit(x_train,y_train)"
   ]
  },
  {
   "cell_type": "code",
   "execution_count": 118,
   "id": "26ccb0c4",
   "metadata": {},
   "outputs": [
    {
     "name": "stdout",
     "output_type": "stream",
     "text": [
      "Mean Absolute Percentage Error (MAPE): 0.10582217150859981\n"
     ]
    }
   ],
   "source": [
    "train_pred = model_gbs.predict(x_train)\n",
    "\n",
    "MAPE_train_gbs = mean_absolute_percentage_error(y_train, train_pred)\n",
    "\n",
    "\n",
    "print(\"Mean Absolute Percentage Error (MAPE):\", MAPE_train_gbs)"
   ]
  },
  {
   "cell_type": "code",
   "execution_count": 119,
   "id": "143c6505",
   "metadata": {},
   "outputs": [
    {
     "name": "stdout",
     "output_type": "stream",
     "text": [
      "Mean Absolute Percentage Error (MAPE): 0.10654961672858689\n"
     ]
    }
   ],
   "source": [
    "test_pred = model_gbs.predict(x_test)\n",
    "\n",
    "MAPE_test_gbs = mean_absolute_percentage_error(y_test, test_pred)\n",
    "\n",
    "\n",
    "print(\"Mean Absolute Percentage Error (MAPE):\", MAPE_test_gbs)"
   ]
  },
  {
   "cell_type": "raw",
   "id": "18ba10e6",
   "metadata": {},
   "source": [
    "def objective(params):\n",
    "    model = GradientBoostingRegressor(**params)\n",
    "    scores = -cross_val_score(model, x_train, y_train, cv=5, scoring='neg_mean_absolute_percentage_error')\n",
    "    return scores.mean()"
   ]
  },
  {
   "cell_type": "raw",
   "id": "afcdbb76",
   "metadata": {},
   "source": [
    "space = {\n",
    "    'n_estimators': hp.choice('n_estimators', range(10, 200)),\n",
    "    'max_depth': hp.choice('max_depth', range(1, 20)),\n",
    "    'learning_rate': hp.loguniform('learning_rate', np.log(0.01), np.log(0.5)),\n",
    "    'min_samples_split': hp.choice('min_samples_split', range(2, 11)),\n",
    "    'min_samples_leaf': hp.choice('min_samples_leaf', range(1, 11)),\n",
    "    'max_features': hp.choice('max_features', ['auto', 'sqrt', 'log2', None])\n",
    "}"
   ]
  },
  {
   "cell_type": "raw",
   "id": "85312a38",
   "metadata": {},
   "source": [
    "trials = Trials()\n",
    "best = fmin(\n",
    "    fn=objective,\n",
    "    space=space,\n",
    "    algo=tpe.suggest,\n",
    "    max_evals=100,  # Adjust the number of evaluations as needed\n",
    "    trials=trials\n",
    ")\n",
    "\n",
    "print(\"Best: {}\".format(best))"
   ]
  },
  {
   "cell_type": "code",
   "execution_count": 120,
   "id": "3b191c0e",
   "metadata": {},
   "outputs": [],
   "source": [
    "GBS_tuned= GradientBoostingRegressor(learning_rate= 0.03546226937642777, max_depth= 14, max_features= 2, min_samples_leaf= 8, n_estimators= 182)\n",
    "\n",
    "model_gbs_tuned = GBS_tuned.fit(x_train,y_train)"
   ]
  },
  {
   "cell_type": "code",
   "execution_count": 121,
   "id": "2f18aa02",
   "metadata": {},
   "outputs": [
    {
     "name": "stdout",
     "output_type": "stream",
     "text": [
      "Mean Absolute Percentage Error (MAPE): 0.04231445108767381\n"
     ]
    }
   ],
   "source": [
    "train_pred_tuned = model_gbs_tuned.predict(x_train)\n",
    "\n",
    "MAPE_train_gbs_tuned = mean_absolute_percentage_error(y_train, train_pred_tuned)\n",
    "\n",
    "\n",
    "print(\"Mean Absolute Percentage Error (MAPE):\", MAPE_train_gbs_tuned)"
   ]
  },
  {
   "cell_type": "code",
   "execution_count": 122,
   "id": "ed16419c",
   "metadata": {},
   "outputs": [
    {
     "name": "stdout",
     "output_type": "stream",
     "text": [
      "Mean Absolute Percentage Error (MAPE): 0.0659353523202866\n"
     ]
    }
   ],
   "source": [
    "test_pred_tuned = model_gbs_tuned.predict(x_test)\n",
    "\n",
    "MAPE_test_gbs_tuned = mean_absolute_percentage_error(y_test, test_pred_tuned)\n",
    "\n",
    "\n",
    "print(\"Mean Absolute Percentage Error (MAPE):\", MAPE_test_gbs_tuned)"
   ]
  },
  {
   "cell_type": "code",
   "execution_count": 128,
   "id": "d809d4be",
   "metadata": {},
   "outputs": [
    {
     "data": {
      "text/plain": [
       "array([10837.11397579])"
      ]
     },
     "execution_count": 128,
     "metadata": {},
     "output_type": "execute_result"
    }
   ],
   "source": [
    "model_gbs_tuned.predict([[2,2,2,2,2,2,2,2,2]])"
   ]
  },
  {
   "cell_type": "code",
   "execution_count": 123,
   "id": "1033dad0",
   "metadata": {},
   "outputs": [],
   "source": [
    "import pickle"
   ]
  },
  {
   "cell_type": "code",
   "execution_count": 124,
   "id": "b2a2326a",
   "metadata": {},
   "outputs": [],
   "source": [
    "with open(\"gb.pkl\",\"wb\") as f:\n",
    "    pickle.dump(model_gbs_tuned,f)"
   ]
  },
  {
   "cell_type": "code",
   "execution_count": 125,
   "id": "d171a877",
   "metadata": {},
   "outputs": [],
   "source": [
    "import gzip"
   ]
  },
  {
   "cell_type": "code",
   "execution_count": 126,
   "id": "d3e6e974",
   "metadata": {},
   "outputs": [],
   "source": [
    "with gzip.open(\"gb.pklz\",\"wb\") as f:\n",
    "    pickle.dump(model_gbs_tuned,f)"
   ]
  },
  {
   "cell_type": "code",
   "execution_count": 129,
   "id": "395c3aba",
   "metadata": {},
   "outputs": [
    {
     "data": {
      "text/plain": [
       "array([10837.11397579])"
      ]
     },
     "execution_count": 129,
     "metadata": {},
     "output_type": "execute_result"
    }
   ],
   "source": [
    "with gzip.open('gb.pklz', 'rb') as f:\n",
    "    model  = pickle.load(f)\n",
    "    \n",
    "model.predict([[2,2,2,2,2,2,2,2,2]])"
   ]
  },
  {
   "cell_type": "code",
   "execution_count": null,
   "id": "c416c26a",
   "metadata": {},
   "outputs": [],
   "source": []
  }
 ],
 "metadata": {
  "kernelspec": {
   "display_name": "Python 3 (ipykernel)",
   "language": "python",
   "name": "python3"
  },
  "language_info": {
   "codemirror_mode": {
    "name": "ipython",
    "version": 3
   },
   "file_extension": ".py",
   "mimetype": "text/x-python",
   "name": "python",
   "nbconvert_exporter": "python",
   "pygments_lexer": "ipython3",
   "version": "3.9.13"
  }
 },
 "nbformat": 4,
 "nbformat_minor": 5
}
